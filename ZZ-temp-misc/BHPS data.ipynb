{
 "cells": [
  {
   "cell_type": "code",
   "execution_count": 1,
   "metadata": {
    "collapsed": true
   },
   "outputs": [],
   "source": [
    "import pandas as pd"
   ]
  },
  {
   "cell_type": "code",
   "execution_count": 2,
   "metadata": {},
   "outputs": [
    {
     "data": {
      "text/plain": [
       "(538, 13)"
      ]
     },
     "execution_count": 2,
     "metadata": {},
     "output_type": "execute_result"
    }
   ],
   "source": [
    "df = pd.read_csv('~/Downloads/BHPS.csv')\n",
    "df.shape"
   ]
  },
  {
   "cell_type": "code",
   "execution_count": 3,
   "metadata": {},
   "outputs": [
    {
     "data": {
      "text/html": [
       "<div>\n",
       "<style>\n",
       "    .dataframe thead tr:only-child th {\n",
       "        text-align: right;\n",
       "    }\n",
       "\n",
       "    .dataframe thead th {\n",
       "        text-align: left;\n",
       "    }\n",
       "\n",
       "    .dataframe tbody tr th {\n",
       "        vertical-align: top;\n",
       "    }\n",
       "</style>\n",
       "<table border=\"1\" class=\"dataframe\">\n",
       "  <thead>\n",
       "    <tr style=\"text-align: right;\">\n",
       "      <th></th>\n",
       "      <th>Field Name</th>\n",
       "      <th>Lease Number</th>\n",
       "      <th>Completion Name</th>\n",
       "      <th>API Well Number</th>\n",
       "      <th>Reservoir Name</th>\n",
       "      <th>Test Date</th>\n",
       "      <th>Shut-In Time</th>\n",
       "      <th>Temp</th>\n",
       "      <th>SI Pressure</th>\n",
       "      <th>BH MD</th>\n",
       "      <th>True Vertical Depth</th>\n",
       "      <th>BH Pressure</th>\n",
       "      <th>Remark</th>\n",
       "    </tr>\n",
       "  </thead>\n",
       "  <tbody>\n",
       "    <tr>\n",
       "      <th>0</th>\n",
       "      <td>BM002</td>\n",
       "      <td>00387</td>\n",
       "      <td>CL013</td>\n",
       "      <td>177150024901</td>\n",
       "      <td>8550 FB B</td>\n",
       "      <td>2/13/2016</td>\n",
       "      <td>9</td>\n",
       "      <td>191</td>\n",
       "      <td>241</td>\n",
       "      <td>2000.0</td>\n",
       "      <td>2064.0</td>\n",
       "      <td>252.0</td>\n",
       "      <td>NaN</td>\n",
       "    </tr>\n",
       "    <tr>\n",
       "      <th>1</th>\n",
       "      <td>BM002</td>\n",
       "      <td>00369</td>\n",
       "      <td>072</td>\n",
       "      <td>177144000802</td>\n",
       "      <td>7300 OO</td>\n",
       "      <td>1/11/2016</td>\n",
       "      <td>4</td>\n",
       "      <td>168</td>\n",
       "      <td>194</td>\n",
       "      <td>7500.0</td>\n",
       "      <td>6118.0</td>\n",
       "      <td>2578.0</td>\n",
       "      <td>Reservoir name noted on BHP-7300 OO.</td>\n",
       "    </tr>\n",
       "    <tr>\n",
       "      <th>2</th>\n",
       "      <td>BM002</td>\n",
       "      <td>00392</td>\n",
       "      <td>CD006</td>\n",
       "      <td>177140035203</td>\n",
       "      <td>83/87/8750BUW</td>\n",
       "      <td>1/5/2016</td>\n",
       "      <td>4</td>\n",
       "      <td>185</td>\n",
       "      <td>447</td>\n",
       "      <td>2000.0</td>\n",
       "      <td>2066.0</td>\n",
       "      <td>474.0</td>\n",
       "      <td>NaN</td>\n",
       "    </tr>\n",
       "    <tr>\n",
       "      <th>3</th>\n",
       "      <td>BM002</td>\n",
       "      <td>00386</td>\n",
       "      <td>EE014</td>\n",
       "      <td>177154077003</td>\n",
       "      <td>S 7900 BB</td>\n",
       "      <td>2/1/2016</td>\n",
       "      <td>4</td>\n",
       "      <td>190</td>\n",
       "      <td>785</td>\n",
       "      <td>10965.0</td>\n",
       "      <td>9537.0</td>\n",
       "      <td>2514.0</td>\n",
       "      <td>Reservoir name noted on BHP-S 07900 FB BB.</td>\n",
       "    </tr>\n",
       "    <tr>\n",
       "      <th>4</th>\n",
       "      <td>BM002</td>\n",
       "      <td>00369</td>\n",
       "      <td>004</td>\n",
       "      <td>177140033902</td>\n",
       "      <td>7600 RMS</td>\n",
       "      <td>1/6/2016</td>\n",
       "      <td>5</td>\n",
       "      <td>167</td>\n",
       "      <td>380</td>\n",
       "      <td>0.0</td>\n",
       "      <td>66.0</td>\n",
       "      <td>380.0</td>\n",
       "      <td>Reservoir noted on BHP-7600 RMS.</td>\n",
       "    </tr>\n",
       "  </tbody>\n",
       "</table>\n",
       "</div>"
      ],
      "text/plain": [
       "  Field Name Lease Number Completion Name  API Well Number Reservoir Name  \\\n",
       "0      BM002        00387           CL013     177150024901      8550 FB B   \n",
       "1      BM002        00369             072     177144000802        7300 OO   \n",
       "2      BM002        00392           CD006     177140035203  83/87/8750BUW   \n",
       "3      BM002        00386           EE014     177154077003      S 7900 BB   \n",
       "4      BM002        00369             004     177140033902       7600 RMS   \n",
       "\n",
       "   Test Date Shut-In Time  Temp  SI Pressure    BH MD  True Vertical Depth  \\\n",
       "0  2/13/2016            9   191          241   2000.0               2064.0   \n",
       "1  1/11/2016            4   168          194   7500.0               6118.0   \n",
       "2   1/5/2016            4   185          447   2000.0               2066.0   \n",
       "3   2/1/2016            4   190          785  10965.0               9537.0   \n",
       "4   1/6/2016            5   167          380      0.0                 66.0   \n",
       "\n",
       "   BH Pressure                                      Remark  \n",
       "0        252.0                                         NaN  \n",
       "1       2578.0        Reservoir name noted on BHP-7300 OO.  \n",
       "2        474.0                                         NaN  \n",
       "3       2514.0  Reservoir name noted on BHP-S 07900 FB BB.  \n",
       "4        380.0            Reservoir noted on BHP-7600 RMS.  "
      ]
     },
     "execution_count": 3,
     "metadata": {},
     "output_type": "execute_result"
    }
   ],
   "source": [
    "df.head()"
   ]
  },
  {
   "cell_type": "code",
   "execution_count": null,
   "metadata": {
    "collapsed": true
   },
   "outputs": [],
   "source": []
  }
 ],
 "metadata": {
  "kernelspec": {
   "display_name": "Python 3",
   "language": "python",
   "name": "python3"
  },
  "language_info": {
   "codemirror_mode": {
    "name": "ipython",
    "version": 3
   },
   "file_extension": ".py",
   "mimetype": "text/x-python",
   "name": "python",
   "nbconvert_exporter": "python",
   "pygments_lexer": "ipython3",
   "version": "3.6.3"
  }
 },
 "nbformat": 4,
 "nbformat_minor": 2
}
